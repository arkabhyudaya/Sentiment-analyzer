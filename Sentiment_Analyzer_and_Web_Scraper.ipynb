{
  "metadata": {
    "kernelspec": {
      "name": "python",
      "display_name": "Python (Pyodide)",
      "language": "python"
    },
    "language_info": {
      "codemirror_mode": {
        "name": "python",
        "version": 3
      },
      "file_extension": ".py",
      "mimetype": "text/x-python",
      "name": "python",
      "nbconvert_exporter": "python",
      "pygments_lexer": "ipython3",
      "version": "3.8"
    }
  },
  "nbformat_minor": 4,
  "nbformat": 4,
  "cells": [
    {
      "cell_type": "code",
      "source": "import requests\nfrom bs4 import BeautifulSoup\nfrom vaderSentiment.vaderSentiment import SentimentIntensityAnalyzer\n\ndef get_article_content(url):\n    response = requests.get(url)\n    soup = BeautifulSoup(response.text, 'html.parser')\n    paragraphs = soup.find('body').find_all('p')\n    content = ' '.join([p.text.strip() for p in paragraphs])\n    return content\n\ndef perform_sentiment_analysis(articles, entity):\n    sid_obj = SentimentIntensityAnalyzer()\n    for idx, article in enumerate(articles, start=1):\n        print(f\"\\n{idx}st Article ({entity}) :\")\n        sentiment_dict = sid_obj.polarity_scores(article)\n        print(\"Overall sentiment dictionary is : \", sentiment_dict)\n        print(\"Article was rated as \", sentiment_dict['neg'] * 100, \"% Negative\")\n        print(\"Article was rated as \", sentiment_dict['neu'] * 100, \"% Neutral\")\n        print(\"Article was rated as \", sentiment_dict['pos'] * 100, \"% Positive\")\n        if sentiment_dict['compound'] >= 0.05:\n            print(\"Article Overall Rated As Positive\")\n        elif sentiment_dict['compound'] <= -0.05:\n            print(\"Article Overall Rated As Negative\")\n        else:\n            print(\"Article Overall Rated As Neutral\")\n\n# Trump Articles\ntrump_urls = [\n    'https://www.bbc.com/news/world-us-canada-59703761',\n    'https://www.dailymail.co.uk/news/article-10340497/Trump-asks-Supreme-Court-block-release-White-House-records-Jan-6-committee.html',\n    'https://www.independent.co.uk/news/world/americas/us-politics/trump-mike-rounds-election-south-dakota-b1990190.html',\n    'https://www.huffingtonpost.co.uk/entry/donald-trump-capitol-riot-january-6-coup_uk_61d6a7c4e4b0d637ae9e08bc',\n    'https://www.thesun.co.uk/news/13699364/where-donald-trump-today/',\n    'https://www.express.co.uk/news/world/1546931/joe-biden-news-popularity-polls-chaotic-trump-divided-america-midterm-elections'\n]\n\ntrump_articles = [get_article_content(url) for url in trump_urls]\nperform_sentiment_analysis(trump_articles, \"Donald Trump\")\n\n# Biden Articles\nbiden_urls = [\n    'https://www.bbc.com/news/world-us-canada-59787060',\n    'https://www.dailymail.co.uk/news/article-10393911/Joe-Biden-calls-Kamala-President-Harris-slip-tongue-speech.html',\n    'https://www.independent.co.uk/news/world/americas/us-politics/biden-speech-georgia-filibuster-voting-b1991144.html',\n    'https://www.huffpost.com/entry/biden-state-of-the-union-2022_n_61d87cfee4b0bcd2195ee408',\n    'https://www.thesun.co.uk/news/17256159/joe-biden-putin-douglas-murray/',\n    'https://www.express.co.uk/news/world/1548925/Joe-biden-news-inflation-us-highest-level-forty-years-president'\n]\n\nbiden_articles = [get_article_content(url) for url in biden_urls]\nperform_sentiment_analysis(biden_articles, \"Joe Biden\")",
      "metadata": {
        "trusted": true
      },
      "outputs": [],
      "execution_count": null
    },
    {
      "cell_type": "code",
      "source": "",
      "metadata": {
        "trusted": true
      },
      "outputs": [],
      "execution_count": null
    },
    {
      "cell_type": "code",
      "source": "",
      "metadata": {
        "trusted": true
      },
      "outputs": [],
      "execution_count": null
    }
  ]
}